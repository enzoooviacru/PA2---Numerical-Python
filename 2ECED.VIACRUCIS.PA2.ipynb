{
 "cells": [
  {
   "cell_type": "markdown",
   "id": "cd9151f8-1361-44d9-96d7-abb72f3de3fd",
   "metadata": {},
   "source": [
    "# NORMALIZATION PROBLEM"
   ]
  },
  {
   "cell_type": "code",
   "execution_count": 2,
   "id": "4f154b5b-db04-4e0b-8d12-f741b58abc33",
   "metadata": {},
   "outputs": [
    {
     "name": "stdout",
     "output_type": "stream",
     "text": [
      "Non-normalized:\n",
      "[[0.63128835 0.07341865 0.08969162 0.07512302 0.47208587]\n",
      " [0.55110589 0.39647087 0.32061696 0.06439208 0.32472163]\n",
      " [0.90722083 0.96407021 0.72699384 0.07711589 0.03615251]\n",
      " [0.06826285 0.09966387 0.53725535 0.77908941 0.49248637]\n",
      " [0.23908828 0.4236128  0.8196777  0.39753887 0.76414098]]\n",
      "Normalized:\n",
      "[[ 0.74596941 -1.16266905 -1.10699437 -1.15683787  0.20129028]\n",
      " [ 0.47164133 -0.05741116 -0.31692996 -1.19355161 -0.30288669]\n",
      " [ 1.69001661  1.8845153   1.07340639 -1.15001966 -1.2901676 ]\n",
      " [-1.18030857 -1.0728763   0.42425448  1.25164084  0.27108647]\n",
      " [-0.59586387  0.03544948  1.39050548 -0.05375721  1.20049783]]\n"
     ]
    }
   ],
   "source": [
    "import numpy as np\n",
    "\n",
    "#Creating an array with 5 rows and columns containing random elements\n",
    "x = np.random.rand(5,5)\n",
    "\n",
    "#Setting formulas to normalize th elements of array x\n",
    "mean = x.mean()\n",
    "std = x.std()\n",
    "z = (x - mean)/std\n",
    "\n",
    "#Saving the normalized array\n",
    "np.save('X_normalized.npy', z)\n",
    "\n",
    "#Printing non-normalized array\n",
    "print(\"Non-normalized:\")\n",
    "print(x)\n",
    "\n",
    "#Printing normalized array\n",
    "print(\"Normalized:\")\n",
    "print(z)"
   ]
  },
  {
   "cell_type": "markdown",
   "id": "0b05e9d9-6ec8-4aff-9073-6ff38d38e6ed",
   "metadata": {},
   "source": [
    "# DIVISIBLE BY 3 PROBLEM"
   ]
  },
  {
   "cell_type": "code",
   "execution_count": 5,
   "id": "51a37ea2-06db-447a-96da-0674d9b21127",
   "metadata": {},
   "outputs": [
    {
     "name": "stdout",
     "output_type": "stream",
     "text": [
      "The square of the first 100 positive integers are:\n",
      "[[    1     4     9    16    25    36    49    64    81   100]\n",
      " [  121   144   169   196   225   256   289   324   361   400]\n",
      " [  441   484   529   576   625   676   729   784   841   900]\n",
      " [  961  1024  1089  1156  1225  1296  1369  1444  1521  1600]\n",
      " [ 1681  1764  1849  1936  2025  2116  2209  2304  2401  2500]\n",
      " [ 2601  2704  2809  2916  3025  3136  3249  3364  3481  3600]\n",
      " [ 3721  3844  3969  4096  4225  4356  4489  4624  4761  4900]\n",
      " [ 5041  5184  5329  5476  5625  5776  5929  6084  6241  6400]\n",
      " [ 6561  6724  6889  7056  7225  7396  7569  7744  7921  8100]\n",
      " [ 8281  8464  8649  8836  9025  9216  9409  9604  9801 10000]]\n",
      "The integers that are divisibe by 3 are:\n",
      "[   9   36   81  144  225  324  441  576  729  900 1089 1296 1521 1764\n",
      " 2025 2304 2601 2916 3249 3600 3969 4356 4761 5184 5625 6084 6561 7056\n",
      " 7569 8100 8649 9216 9801]\n"
     ]
    }
   ],
   "source": [
    "import numpy as np\n",
    "\n",
    "#Creating an array containing the first 100 positive integers\n",
    "x = np.arange(1,101)\n",
    "\n",
    "#Squaring the elements of the array\n",
    "y = x**2\n",
    "\n",
    "#Making the array into 10 rows and columns\n",
    "z = y.reshape(10,10)\n",
    "\n",
    "#Getting the elements divisible by 3 and putting it in its own array\n",
    "divisible3 = y[y%3==0]\n",
    "\n",
    "#Saving the array with elements divisible by 3\n",
    "np.save('div_by_3.npy', divisible3)\n",
    "\n",
    "#Printing the 10x10 array containing the square of the first 100 positive integers\n",
    "print(\"The square of the first 100 positive integers are:\")\n",
    "print(z)\n",
    "\n",
    "#Printing the elements of the 10x10 array that are divisible by 3\n",
    "print(\"The integers that are divisibe by 3 are:\")\n",
    "print(divisible3)    "
   ]
  },
  {
   "cell_type": "code",
   "execution_count": null,
   "id": "0cf9ee63-9b41-446f-9070-f3ac0cb4fe80",
   "metadata": {},
   "outputs": [],
   "source": []
  }
 ],
 "metadata": {
  "kernelspec": {
   "display_name": "Python 3 (ipykernel)",
   "language": "python",
   "name": "python3"
  },
  "language_info": {
   "codemirror_mode": {
    "name": "ipython",
    "version": 3
   },
   "file_extension": ".py",
   "mimetype": "text/x-python",
   "name": "python",
   "nbconvert_exporter": "python",
   "pygments_lexer": "ipython3",
   "version": "3.12.4"
  }
 },
 "nbformat": 4,
 "nbformat_minor": 5
}
